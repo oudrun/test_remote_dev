{
 "cells": [
  {
   "cell_type": "markdown",
   "metadata": {},
   "source": [
    "# Snippets for testing og læring."
   ]
  },
  {
   "cell_type": "code",
   "execution_count": null,
   "metadata": {
    "dotnet_interactive": {
     "language": "csharp"
    },
    "vscode": {
     "languageId": "dotnet-interactive.csharp"
    }
   },
   "outputs": [
    {
     "data": {
      "text/html": [
       "<div class=\"dni-plaintext\">33</div>"
      ]
     },
     "metadata": {},
     "output_type": "display_data"
    },
    {
     "name": "stdout",
     "output_type": "stream",
     "text": [
      "Summen blir: 33\n"
     ]
    }
   ],
   "source": [
    "int a = 12;\n",
    "int b = 21;\n",
    "\n",
    "display(a+b);\n",
    "\n",
    "Console.WriteLine($\"Summen blir: {a+b}\");"
   ]
  },
  {
   "cell_type": "markdown",
   "metadata": {},
   "source": [
    "**Snippets** vil være et naturlig sted å starte. Både for uttesting og for læring. Små *kode-snutter* som benyttes kan lagres her slik at de kan gjennbrukes eller vurderes på nytt senere."
   ]
  },
  {
   "cell_type": "markdown",
   "metadata": {
    "dotnet_interactive": {
     "language": "csharp"
    }
   },
   "source": [
    "## Type of numbers, size and memory use"
   ]
  },
  {
   "cell_type": "code",
   "execution_count": null,
   "metadata": {
    "dotnet_interactive": {
     "language": "csharp"
    },
    "vscode": {
     "languageId": "dotnet-interactive.csharp"
    }
   },
   "outputs": [
    {
     "name": "stdout",
     "output_type": "stream",
     "text": [
      "--------------------------------------------------------------------------\n",
      "Type    Byte(s) of memory               Min                            Max\n",
      "--------------------------------------------------------------------------\n",
      "sbyte   1                              -128                            127\n",
      "byte    1                                 0                            255\n",
      "short   2                            -32768                          32767\n",
      "ushort  2                                 0                          65535\n",
      "int     4                       -2147483648                     2147483647\n",
      "uint    4                                 0                     4294967295\n",
      "long    8              -9223372036854775808            9223372036854775807\n",
      "ulong   8                                 0           18446744073709551615\n",
      "float   4                    -3.4028235E+38                  3.4028235E+38\n",
      "double  8          -1.7976931348623157E+308        1.7976931348623157E+308\n",
      "decimal 16   -79228162514264337593543950335  79228162514264337593543950335\n",
      "--------------------------------------------------------------------------\n"
     ]
    }
   ],
   "source": [
    "using static System.Console;\n",
    "            \n",
    "WriteLine(\"--------------------------------------------------------------------------\");\n",
    "WriteLine(\"Type    Byte(s) of memory               Min                            Max\");\n",
    "WriteLine(\"--------------------------------------------------------------------------\");\n",
    "WriteLine($\"sbyte   {sizeof(sbyte),-4} {sbyte.MinValue,30} {sbyte.MaxValue,30}\");\n",
    "WriteLine($\"byte    {sizeof(byte),-4} {byte.MinValue,30} {byte.MaxValue,30}\");\n",
    "WriteLine($\"short   {sizeof(short),-4} {short.MinValue,30} {short.MaxValue,30}\");\n",
    "WriteLine($\"ushort  {sizeof(ushort),-4} {ushort.MinValue,30} {ushort.MaxValue,30}\");\n",
    "WriteLine($\"int     {sizeof(int),-4} {int.MinValue,30} {int.MaxValue,30}\");\n",
    "WriteLine($\"uint    {sizeof(uint),-4} {uint.MinValue,30} {uint.MaxValue,30}\");\n",
    "WriteLine($\"long    {sizeof(long),-4} {long.MinValue,30} {long.MaxValue,30}\");\n",
    "WriteLine($\"ulong   {sizeof(ulong),-4} {ulong.MinValue,30} {ulong.MaxValue,30}\");\n",
    "WriteLine($\"float   {sizeof(float),-4} {float.MinValue,30} {float.MaxValue,30}\");\n",
    "WriteLine($\"double  {sizeof(double),-4} {double.MinValue,30} {double.MaxValue,30}\");\n",
    "WriteLine($\"decimal {sizeof(decimal),-4} {decimal.MinValue,30} {decimal.MaxValue,30}\");\n",
    "WriteLine(\"--------------------------------------------------------------------------\");"
   ]
  },
  {
   "cell_type": "code",
   "execution_count": null,
   "metadata": {
    "dotnet_interactive": {
     "language": "csharp"
    },
    "vscode": {
     "languageId": "dotnet-interactive.csharp"
    }
   },
   "outputs": [],
   "source": []
  }
 ],
 "metadata": {
  "kernelspec": {
   "display_name": ".NET (C#)",
   "language": "C#",
   "name": ".net-csharp"
  },
  "language_info": {
   "file_extension": ".cs",
   "mimetype": "text/x-csharp",
   "name": "C#",
   "pygments_lexer": "csharp",
   "version": "9.0"
  },
  "orig_nbformat": 4
 },
 "nbformat": 4,
 "nbformat_minor": 2
}
