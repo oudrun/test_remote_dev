{
 "cells": [
  {
   "cell_type": "markdown",
   "metadata": {
    "dotnet_interactive": {
     "language": "csharp"
    }
   },
   "source": [
    "#  Litt småtesting av enkelte ting i C#\n",
    "Prøve litt småtteri for å få types etc. inn i fingrene"
   ]
  },
  {
   "cell_type": "code",
   "execution_count": null,
   "metadata": {
    "dotnet_interactive": {
     "language": "csharp"
    },
    "vscode": {
     "languageId": "dotnet-interactive.csharp"
    }
   },
   "outputs": [
    {
     "data": {
      "text/html": [
       "<div class=\"dni-plaintext\">4</div>"
      ]
     },
     "metadata": {},
     "output_type": "display_data"
    }
   ],
   "source": [
    "int a = 256;\n",
    "\n",
    "double b = 23.55;\n",
    "\n",
    "display(sizeof(int));\n"
   ]
  },
  {
   "cell_type": "code",
   "execution_count": null,
   "metadata": {
    "dotnet_interactive": {
     "language": "csharp"
    },
    "vscode": {
     "languageId": "dotnet-interactive.csharp"
    }
   },
   "outputs": [],
   "source": [
    "foreach (var r in Assembly.GetEntryAssembly()\n",
    "        .GetReferencedAssemblies())\n",
    "      {\n",
    "        // load the assembly so we can read its details\n",
    "        var a = Assembly.Load(new AssemblyName(r.FullName));\n",
    "\n",
    "        // declare a variable to count the number of methods\n",
    "        int methodCount = 0;\n",
    "\n",
    "        // loop through all the types in the assembly \n",
    "        foreach (var t in a.DefinedTypes)\n",
    "        {\n",
    "          // add up the counts of methods \n",
    "          methodCount += t.GetMethods().Count();\n",
    "        }\n",
    "      }\n",
    "\n",
    "\n"
   ]
  },
  {
   "cell_type": "code",
   "execution_count": null,
   "metadata": {
    "dotnet_interactive": {
     "language": "csharp"
    },
    "vscode": {
     "languageId": "dotnet-interactive.csharp"
    }
   },
   "outputs": [
    {
     "data": {
      "text/html": [
       "<div class=\"dni-plaintext\">0.1</div>"
      ]
     },
     "metadata": {},
     "output_type": "display_data"
    },
    {
     "data": {
      "text/html": [
       "<div class=\"dni-plaintext\">0.2</div>"
      ]
     },
     "metadata": {},
     "output_type": "display_data"
    },
    {
     "data": {
      "text/plain": [
       "0.1 + 0.2 does NOT equal 0.3"
      ]
     },
     "metadata": {},
     "output_type": "display_data"
    },
    {
     "data": {
      "text/html": [
       "<div class=\"dni-plaintext\">0.30000000000000004</div>"
      ]
     },
     "metadata": {},
     "output_type": "display_data"
    }
   ],
   "source": [
    "//decimal c = 0.1M;\n",
    "//decimal d = 0.2M;\n",
    "double c = 0.1;\n",
    "double d = 0.2;\n",
    "\n",
    "display(c);\n",
    "display(d);\n",
    "\n",
    "//if (c + d == 0.3M)\n",
    "if (c + d == 0.3)\n",
    "{\n",
    "    display($\"{c} + {d} equals 0.3\");\n",
    "} else {\n",
    "    display($\"{c} + {d} does NOT equal 0.3\");\n",
    "    display(c + d);\n",
    "}"
   ]
  },
  {
   "cell_type": "code",
   "execution_count": null,
   "metadata": {
    "dotnet_interactive": {
     "language": "csharp"
    },
    "vscode": {
     "languageId": "dotnet-interactive.csharp"
    }
   },
   "outputs": [],
   "source": [
    "bool happy = true;\n",
    "bool sad = false;\n"
   ]
  },
  {
   "cell_type": "code",
   "execution_count": null,
   "metadata": {
    "dotnet_interactive": {
     "language": "csharp"
    },
    "vscode": {
     "languageId": "dotnet-interactive.csharp"
    }
   },
   "outputs": [
    {
     "ename": "Error",
     "evalue": "Microsoft.CSharp.RuntimeBinder.RuntimeBinderException: 'string' does not contain a definition for 'Lenght'\n   at CallSite.Target(Closure , CallSite , Object )\n   at System.Dynamic.UpdateDelegates.UpdateAndExecute1[T0,TRet](CallSite site, T0 arg0)\n   at Submission#28.<<Initialize>>d__0.MoveNext()\n--- End of stack trace from previous location ---\n   at Microsoft.CodeAnalysis.Scripting.ScriptExecutionState.RunSubmissionsAsync[TResult](ImmutableArray`1 precedingExecutors, Func`2 currentExecutor, StrongBox`1 exceptionHolderOpt, Func`2 catchExceptionOpt, CancellationToken cancellationToken)",
     "output_type": "error",
     "traceback": [
      "Microsoft.CSharp.RuntimeBinder.RuntimeBinderException: 'string' does not contain a definition for 'Lenght'\n",
      "   at CallSite.Target(Closure , CallSite , Object )\n",
      "   at System.Dynamic.UpdateDelegates.UpdateAndExecute1[T0,TRet](CallSite site, T0 arg0)\n",
      "   at Submission#28.<<Initialize>>d__0.MoveNext()\n",
      "--- End of stack trace from previous location ---\n",
      "   at Microsoft.CodeAnalysis.Scripting.ScriptExecutionState.RunSubmissionsAsync[TResult](ImmutableArray`1 precedingExecutors, Func`2 currentExecutor, StrongBox`1 exceptionHolderOpt, Func`2 catchExceptionOpt, CancellationToken cancellationToken)"
     ]
    }
   ],
   "source": [
    "dynamic anotherName = \"Ahmed\";\n",
    "\n",
    "int length = anotherName.Lenght;"
   ]
  },
  {
   "cell_type": "code",
   "execution_count": null,
   "metadata": {
    "dotnet_interactive": {
     "language": "csharp"
    },
    "vscode": {
     "languageId": "dotnet-interactive.csharp"
    }
   },
   "outputs": [],
   "source": [
    "using System.IO;\n",
    "using System.Xml;\n",
    "\n",
    "/*\n",
    "int population = 66_000_000;\n",
    "double weight = 1.88;\n",
    "decimal price = 4.99M;\n",
    "string fruit = \"Apples\";\n",
    "char letter = 'Z';\n",
    "bool happy = true;\n",
    "*/\n",
    "\n",
    "var population = 66_000_000;\n",
    "var weight = 1.88;\n",
    "var price = 4.99M;\n",
    "var fruit = \"Apples\";\n",
    "var letter = 'Z';\n",
    "var happy = true;\n",
    "\n",
    "XmlDocument xm13 = new();\n"
   ]
  },
  {
   "cell_type": "markdown",
   "metadata": {
    "dotnet_interactive": {
     "language": "csharp"
    }
   },
   "source": [
    "### Default values for types"
   ]
  },
  {
   "cell_type": "code",
   "execution_count": null,
   "metadata": {
    "dotnet_interactive": {
     "language": "csharp"
    },
    "vscode": {
     "languageId": "dotnet-interactive.csharp"
    }
   },
   "outputs": [
    {
     "name": "stdout",
     "output_type": "stream",
     "text": [
      "default(int) = 0\n",
      "default(bool) = False\n",
      "default(DateTime) = 01/01/0001 00:00:00\n",
      "default(string) = \n"
     ]
    }
   ],
   "source": [
    "Console.WriteLine($\"default(int) = {default(int)}\");\n",
    "Console.WriteLine($\"default(bool) = {default(bool)}\");\n",
    "Console.WriteLine($\"default(DateTime) = {default(DateTime)}\");\n",
    "Console.WriteLine($\"default(string) = {default(string)}\");\n"
   ]
  },
  {
   "cell_type": "markdown",
   "metadata": {},
   "source": [
    "### Arrays"
   ]
  },
  {
   "cell_type": "code",
   "execution_count": null,
   "metadata": {
    "dotnet_interactive": {
     "language": "csharp"
    },
    "vscode": {
     "languageId": "dotnet-interactive.csharp"
    }
   },
   "outputs": [
    {
     "name": "stdout",
     "output_type": "stream",
     "text": [
      "Kate\n",
      "Jack\n",
      "Rebecca\n",
      "Tom\n"
     ]
    },
    {
     "data": {
      "text/html": [
       "<table><thead><tr><th><i>index</i></th><th>value</th></tr></thead><tbody><tr><td>0</td><td>Kate</td></tr><tr><td>1</td><td>Jack</td></tr><tr><td>2</td><td>Rebecca</td></tr><tr><td>3</td><td>Tom</td></tr></tbody></table>"
      ]
     },
     "metadata": {},
     "output_type": "display_data"
    }
   ],
   "source": [
    "string[] names; // Can reference any array of strings\n",
    "\n",
    "//allocating memory for four strings in an array\n",
    "names = new string[4];\n",
    "\n",
    "//storing items at index position\n",
    "names[0] = \"Kate\";\n",
    "names[1] = \"Jack\";\n",
    "names[2] = \"Rebecca\";\n",
    "names[3] = \"Tom\";\n",
    "\n",
    "//looping through the names\n",
    "for (int i = 0; i < names.Length; i++)\n",
    "{\n",
    "    // output the item at index position i\n",
    "    Console.WriteLine(names[i]);\n",
    "}\n",
    "\n",
    "display(names);"
   ]
  },
  {
   "cell_type": "markdown",
   "metadata": {
    "dotnet_interactive": {
     "language": "csharp"
    }
   },
   "source": [
    "### Making a valuetype nullable\n",
    "Sometimes it is convenient to allow a value to be `null`. We call this a **nullable value type**"
   ]
  },
  {
   "cell_type": "code",
   "execution_count": null,
   "metadata": {
    "dotnet_interactive": {
     "language": "csharp"
    },
    "vscode": {
     "languageId": "dotnet-interactive.csharp"
    }
   },
   "outputs": [],
   "source": [
    "\n",
    "int thisCannotBeNull = 4;\n",
    "//thisCannotBeNull = null; //compile error!\n",
    "int? thisCouldBeNull = null; //note the questionmark after defining type"
   ]
  },
  {
   "cell_type": "code",
   "execution_count": null,
   "metadata": {
    "dotnet_interactive": {
     "language": "csharp"
    },
    "vscode": {
     "languageId": "dotnet-interactive.csharp"
    }
   },
   "outputs": [],
   "source": [
    "#nullable enable\n",
    "\n",
    "class Adress\n",
    "{\n",
    "    public string? Building;\n",
    "    public string Street = string.Empty;\n",
    "    public string City = string.Empty;\n",
    "    public string Region = string.Empty;\n",
    "}\n",
    "\n",
    "var adress = new Adress();\n",
    "//var Adress = New();\n",
    "adress.Building = null;\n",
    "adress.Street = null;\n",
    "adress.City = \"London\";\n",
    "adress.Region = null;\n"
   ]
  },
  {
   "cell_type": "code",
   "execution_count": null,
   "metadata": {
    "dotnet_interactive": {
     "language": "csharp"
    },
    "vscode": {
     "languageId": "dotnet-interactive.csharp"
    }
   },
   "outputs": [
    {
     "ename": "Error",
     "evalue": "System.NullReferenceException: Object reference not set to an instance of an object.\n   at Submission#52.<<Initialize>>d__0.MoveNext()\n--- End of stack trace from previous location ---\n   at Microsoft.CodeAnalysis.Scripting.ScriptExecutionState.RunSubmissionsAsync[TResult](ImmutableArray`1 precedingExecutors, Func`2 currentExecutor, StrongBox`1 exceptionHolderOpt, Func`2 catchExceptionOpt, CancellationToken cancellationToken)",
     "output_type": "error",
     "traceback": [
      "System.NullReferenceException: Object reference not set to an instance of an object.\n",
      "   at Submission#52.<<Initialize>>d__0.MoveNext()\n",
      "--- End of stack trace from previous location ---\n",
      "   at Microsoft.CodeAnalysis.Scripting.ScriptExecutionState.RunSubmissionsAsync[TResult](ImmutableArray`1 precedingExecutors, Func`2 currentExecutor, StrongBox`1 exceptionHolderOpt, Func`2 catchExceptionOpt, CancellationToken cancellationToken)"
     ]
    }
   ],
   "source": [
    "string authorName = null;\n",
    "int x = authorName.Length;"
   ]
  },
  {
   "cell_type": "code",
   "execution_count": null,
   "metadata": {
    "dotnet_interactive": {
     "language": "csharp"
    },
    "vscode": {
     "languageId": "dotnet-interactive.csharp"
    }
   },
   "outputs": [
    {
     "name": "stdout",
     "output_type": "stream",
     "text": [
      "3\n"
     ]
    }
   ],
   "source": [
    "string authorName = null;\n",
    "int? x = authorName?.Length;\n",
    "\n",
    "// result will be 3 if authorName?.Length is null\n",
    "var result = authorName?.Length ?? 3;\n",
    "Console.WriteLine(result);\n"
   ]
  },
  {
   "cell_type": "code",
   "execution_count": null,
   "metadata": {
    "dotnet_interactive": {
     "language": "csharp"
    },
    "vscode": {
     "languageId": "dotnet-interactive.csharp"
    }
   },
   "outputs": [
    {
     "name": "stdout",
     "output_type": "stream",
     "text": [
      "12 apples costs 4.20:C\n"
     ]
    }
   ],
   "source": [
    "int numberOfApples = 12;\n",
    "decimal pricePerApple = 0.35M;\n",
    "//Console.WriteLine(format: \"{0} apples costs {1:C}\")\n",
    "\n",
    "Console.WriteLine($\"{numberOfApples} apples costs {pricePerApple * numberOfApples}:C\");"
   ]
  },
  {
   "cell_type": "code",
   "execution_count": null,
   "metadata": {
    "dotnet_interactive": {
     "language": "csharp"
    },
    "vscode": {
     "languageId": "dotnet-interactive.csharp"
    }
   },
   "outputs": [
    {
     "name": "stdout",
     "output_type": "stream",
     "text": [
      "Type your first name and press ENTER \n",
      "Hello {\"command\":{\"code\":\"using static System.Console;\\n\\nWriteLine(\\\"Type your first name and press ENTER \\\");\\nstring firstName = ReadLine();\\n\\nWriteLine($\\\"Hello {firstName}\\\");\",\"linePosition\":{\"line\":2,\"character\":0},\"targetKernelName\":\"csharp\"},\"commandType\":\"RequestHoverText\",\"token\":\"2573\",\"id\":\"a4142780-f9bf-4e25-e988-f232632b7c9c\"}\n"
     ]
    }
   ],
   "source": [
    "using static System.Console;\n",
    "\n",
    "WriteLine(\"Type your first name and press ENTER \");\n",
    "string firstName = ReadLine();\n",
    "\n",
    "WriteLine($\"Hello {firstName}\");"
   ]
  },
  {
   "cell_type": "code",
   "execution_count": null,
   "metadata": {
    "dotnet_interactive": {
     "language": "csharp"
    },
    "vscode": {
     "languageId": "dotnet-interactive.csharp"
    }
   },
   "outputs": [],
   "source": []
  }
 ],
 "metadata": {
  "kernelspec": {
   "display_name": ".NET (C#)",
   "language": "C#",
   "name": ".net-csharp"
  },
  "language_info": {
   "file_extension": ".cs",
   "mimetype": "text/x-csharp",
   "name": "C#",
   "pygments_lexer": "csharp",
   "version": "9.0"
  },
  "orig_nbformat": 4
 },
 "nbformat": 4,
 "nbformat_minor": 2
}
